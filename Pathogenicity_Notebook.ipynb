{
 "cells": [
  {
   "cell_type": "markdown",
   "metadata": {},
   "source": [
    "# <center> Reproducible and Shareable Quantifications of Pathogenicity </center>\n",
    "<center>Manrai, Wang, Patel, Kohane.\n",
    "*Pacific Symposium on Biocomputing 2016* Submission</center>"
   ]
  },
  {
   "cell_type": "markdown",
   "metadata": {},
   "source": [
    "### 1. Loading and Cleaning Pathogenicity Assertions for all Diseases from ClinVar"
   ]
  },
  {
   "cell_type": "markdown",
   "metadata": {},
   "source": [
    "The ClinVar database [http://www.ncbi.nlm.nih.gov/clinvar/] contains pathogenicity assertions for genetic variants across a broad set of diseases. First, let's use the ANNOVAR tool [http://annovar.openbioinformatics.org/en/latest/] to download these annotations locally. After running the following command, a new directory called \"humandb\" will be created to store the ClinVar annotations, and temporary files will be removed. Exit code 0 indicates success."
   ]
  },
  {
   "cell_type": "code",
   "execution_count": 1,
   "metadata": {
    "collapsed": false
   },
   "outputs": [
    {
     "data": {
      "text/plain": [
       "0"
      ]
     },
     "execution_count": 1,
     "metadata": {},
     "output_type": "execute_result"
    }
   ],
   "source": [
    "import os\n",
    "os.system('annotate_variation.pl -buildver hg19 -downdb -webfrom annovar clinvar_20150629 humandb/')"
   ]
  },
  {
   "cell_type": "markdown",
   "metadata": {},
   "source": [
    "Let's look at a few lines of this file:"
   ]
  },
  {
   "cell_type": "code",
   "execution_count": 2,
   "metadata": {
    "collapsed": false
   },
   "outputs": [
    {
     "name": "stdout",
     "output_type": "stream",
     "text": [
      "['1\\t883516\\t883516\\tG\\tA\\tCLINSIG=untested;CLNDBN=Malignant_melanoma;CLNREVSTAT=no_assertion_provided;CLNACC=RCV000064926.2;CLNDSDB=MedGen:SNOMED_CT;CLNDSDBID=C0025202:2092003\\n', '1\\t891344\\t891344\\tG\\tA\\tCLINSIG=untested;CLNDBN=Malignant_melanoma;CLNREVSTAT=no_assertion_provided;CLNACC=RCV000064927.2;CLNDSDB=MedGen:SNOMED_CT;CLNDSDBID=C0025202:2092003\\n', '1\\t891344\\t891344\\tG\\tC\\tCLINSIG=untested;CLNDBN=Malignant_melanoma;CLNREVSTAT=no_assertion_provided;CLNACC=RCV000064927.2;CLNDSDB=MedGen:SNOMED_CT;CLNDSDBID=C0025202:2092003\\n', '1\\t906168\\t906168\\tG\\tA\\tCLINSIG=untested;CLNDBN=Malignant_melanoma;CLNREVSTAT=no_assertion_provided;CLNACC=RCV000064940.2;CLNDSDB=MedGen:SNOMED_CT;CLNDSDBID=C0025202:2092003\\n', '1\\t949523\\t949523\\tC\\tT\\tCLINSIG=pathogenic;CLNDBN=Immunodeficiency_38;CLNREVSTAT=no_assertion_criteria_provided;CLNACC=RCV000162196.2;CLNDSDB=MedGen:OMIM;CLNDSDBID=CN221808:616126\\n']\n"
     ]
    }
   ],
   "source": [
    "with open('humandb/hg19_clinvar_20150629.txt') as infile:\n",
    "    first_five_lines = [next(infile) for i in range(5)]\n",
    "print first_five_lines"
   ]
  },
  {
   "cell_type": "markdown",
   "metadata": {},
   "source": [
    "We can load this file more cleanly with the pandas library (http://pandas.pydata.org/):"
   ]
  },
  {
   "cell_type": "code",
   "execution_count": 3,
   "metadata": {
    "collapsed": false
   },
   "outputs": [
    {
     "name": "stdout",
     "output_type": "stream",
     "text": [
      "There are 133015 rows in this version of ClinVar.\n",
      "There are 132584 distinct variants in this version of ClinVar.\n"
     ]
    }
   ],
   "source": [
    "import pandas as pd\n",
    "raw_clinvar = pd.read_table('humandb/hg19_clinvar_20150629.txt', header=None)\n",
    "raw_clinvar.columns = ['Chromosome','Start','Stop','Ref','Alt','ClinSig']\n",
    "print 'There are %s rows in this version of ClinVar.' %raw_clinvar.shape[0]\n",
    "\n",
    "distinct_variants = set(zip(raw_clinvar.Chromosome,raw_clinvar.Start,raw_clinvar.Stop,raw_clinvar.Ref,raw_clinvar.Alt))\n",
    "num_distinct_variants = len(distinct_variants)\n",
    "print 'There are %s distinct variants in this version of ClinVar.' %num_distinct_variants"
   ]
  },
  {
   "cell_type": "markdown",
   "metadata": {},
   "source": [
    "Taking a closer look at raw_clinvar, we see that the clinical significance data is squished together in one field (ClinSig):"
   ]
  },
  {
   "cell_type": "code",
   "execution_count": 4,
   "metadata": {
    "collapsed": false,
    "scrolled": true
   },
   "outputs": [
    {
     "data": {
      "text/html": [
       "<div>\n",
       "<table border=\"1\" class=\"dataframe\">\n",
       "  <thead>\n",
       "    <tr style=\"text-align: right;\">\n",
       "      <th></th>\n",
       "      <th>Chromosome</th>\n",
       "      <th>Start</th>\n",
       "      <th>Stop</th>\n",
       "      <th>Ref</th>\n",
       "      <th>Alt</th>\n",
       "      <th>ClinSig</th>\n",
       "    </tr>\n",
       "  </thead>\n",
       "  <tbody>\n",
       "    <tr>\n",
       "      <th>0</th>\n",
       "      <td>1</td>\n",
       "      <td>883516</td>\n",
       "      <td>883516</td>\n",
       "      <td>G</td>\n",
       "      <td>A</td>\n",
       "      <td>CLINSIG=untested;CLNDBN=Malignant_melanoma;CLN...</td>\n",
       "    </tr>\n",
       "    <tr>\n",
       "      <th>1</th>\n",
       "      <td>1</td>\n",
       "      <td>891344</td>\n",
       "      <td>891344</td>\n",
       "      <td>G</td>\n",
       "      <td>A</td>\n",
       "      <td>CLINSIG=untested;CLNDBN=Malignant_melanoma;CLN...</td>\n",
       "    </tr>\n",
       "    <tr>\n",
       "      <th>2</th>\n",
       "      <td>1</td>\n",
       "      <td>891344</td>\n",
       "      <td>891344</td>\n",
       "      <td>G</td>\n",
       "      <td>C</td>\n",
       "      <td>CLINSIG=untested;CLNDBN=Malignant_melanoma;CLN...</td>\n",
       "    </tr>\n",
       "    <tr>\n",
       "      <th>3</th>\n",
       "      <td>1</td>\n",
       "      <td>906168</td>\n",
       "      <td>906168</td>\n",
       "      <td>G</td>\n",
       "      <td>A</td>\n",
       "      <td>CLINSIG=untested;CLNDBN=Malignant_melanoma;CLN...</td>\n",
       "    </tr>\n",
       "    <tr>\n",
       "      <th>4</th>\n",
       "      <td>1</td>\n",
       "      <td>949523</td>\n",
       "      <td>949523</td>\n",
       "      <td>C</td>\n",
       "      <td>T</td>\n",
       "      <td>CLINSIG=pathogenic;CLNDBN=Immunodeficiency_38;...</td>\n",
       "    </tr>\n",
       "  </tbody>\n",
       "</table>\n",
       "</div>"
      ],
      "text/plain": [
       "  Chromosome   Start    Stop Ref Alt  \\\n",
       "0          1  883516  883516   G   A   \n",
       "1          1  891344  891344   G   A   \n",
       "2          1  891344  891344   G   C   \n",
       "3          1  906168  906168   G   A   \n",
       "4          1  949523  949523   C   T   \n",
       "\n",
       "                                             ClinSig  \n",
       "0  CLINSIG=untested;CLNDBN=Malignant_melanoma;CLN...  \n",
       "1  CLINSIG=untested;CLNDBN=Malignant_melanoma;CLN...  \n",
       "2  CLINSIG=untested;CLNDBN=Malignant_melanoma;CLN...  \n",
       "3  CLINSIG=untested;CLNDBN=Malignant_melanoma;CLN...  \n",
       "4  CLINSIG=pathogenic;CLNDBN=Immunodeficiency_38;...  "
      ]
     },
     "execution_count": 4,
     "metadata": {},
     "output_type": "execute_result"
    }
   ],
   "source": [
    "raw_clinvar.head(5)"
   ]
  },
  {
   "cell_type": "markdown",
   "metadata": {},
   "source": [
    "Separating this field:"
   ]
  },
  {
   "cell_type": "code",
   "execution_count": 5,
   "metadata": {
    "collapsed": false
   },
   "outputs": [
    {
     "data": {
      "text/html": [
       "<div>\n",
       "<table border=\"1\" class=\"dataframe\">\n",
       "  <thead>\n",
       "    <tr style=\"text-align: right;\">\n",
       "      <th></th>\n",
       "      <th>Chromosome</th>\n",
       "      <th>Start</th>\n",
       "      <th>Stop</th>\n",
       "      <th>Ref</th>\n",
       "      <th>Alt</th>\n",
       "      <th>assertion</th>\n",
       "      <th>disease</th>\n",
       "      <th>accession</th>\n",
       "    </tr>\n",
       "  </thead>\n",
       "  <tbody>\n",
       "    <tr>\n",
       "      <th>0</th>\n",
       "      <td>1</td>\n",
       "      <td>883516</td>\n",
       "      <td>883516</td>\n",
       "      <td>G</td>\n",
       "      <td>A</td>\n",
       "      <td>untested</td>\n",
       "      <td>Malignant_melanoma</td>\n",
       "      <td>RCV000064926.2</td>\n",
       "    </tr>\n",
       "    <tr>\n",
       "      <th>1</th>\n",
       "      <td>1</td>\n",
       "      <td>891344</td>\n",
       "      <td>891344</td>\n",
       "      <td>G</td>\n",
       "      <td>A</td>\n",
       "      <td>untested</td>\n",
       "      <td>Malignant_melanoma</td>\n",
       "      <td>RCV000064927.2</td>\n",
       "    </tr>\n",
       "    <tr>\n",
       "      <th>2</th>\n",
       "      <td>1</td>\n",
       "      <td>891344</td>\n",
       "      <td>891344</td>\n",
       "      <td>G</td>\n",
       "      <td>C</td>\n",
       "      <td>untested</td>\n",
       "      <td>Malignant_melanoma</td>\n",
       "      <td>RCV000064927.2</td>\n",
       "    </tr>\n",
       "    <tr>\n",
       "      <th>3</th>\n",
       "      <td>1</td>\n",
       "      <td>906168</td>\n",
       "      <td>906168</td>\n",
       "      <td>G</td>\n",
       "      <td>A</td>\n",
       "      <td>untested</td>\n",
       "      <td>Malignant_melanoma</td>\n",
       "      <td>RCV000064940.2</td>\n",
       "    </tr>\n",
       "    <tr>\n",
       "      <th>4</th>\n",
       "      <td>1</td>\n",
       "      <td>949523</td>\n",
       "      <td>949523</td>\n",
       "      <td>C</td>\n",
       "      <td>T</td>\n",
       "      <td>pathogenic</td>\n",
       "      <td>Immunodeficiency_38</td>\n",
       "      <td>RCV000162196.2</td>\n",
       "    </tr>\n",
       "    <tr>\n",
       "      <th>5</th>\n",
       "      <td>1</td>\n",
       "      <td>949696</td>\n",
       "      <td>949696</td>\n",
       "      <td>-</td>\n",
       "      <td>G</td>\n",
       "      <td>pathogenic</td>\n",
       "      <td>Immunodeficiency_38</td>\n",
       "      <td>RCV000148989.4</td>\n",
       "    </tr>\n",
       "    <tr>\n",
       "      <th>6</th>\n",
       "      <td>1</td>\n",
       "      <td>949739</td>\n",
       "      <td>949739</td>\n",
       "      <td>G</td>\n",
       "      <td>T</td>\n",
       "      <td>pathogenic</td>\n",
       "      <td>Immunodeficiency_38</td>\n",
       "      <td>RCV000148988.4</td>\n",
       "    </tr>\n",
       "    <tr>\n",
       "      <th>7</th>\n",
       "      <td>1</td>\n",
       "      <td>955597</td>\n",
       "      <td>955597</td>\n",
       "      <td>G</td>\n",
       "      <td>T</td>\n",
       "      <td>probable-non-pathogenic</td>\n",
       "      <td>not_specified</td>\n",
       "      <td>RCV000116272.2</td>\n",
       "    </tr>\n",
       "    <tr>\n",
       "      <th>8</th>\n",
       "      <td>1</td>\n",
       "      <td>957640</td>\n",
       "      <td>957640</td>\n",
       "      <td>C</td>\n",
       "      <td>T</td>\n",
       "      <td>probable-non-pathogenic</td>\n",
       "      <td>not_specified</td>\n",
       "      <td>RCV000116258.2</td>\n",
       "    </tr>\n",
       "    <tr>\n",
       "      <th>9</th>\n",
       "      <td>1</td>\n",
       "      <td>976629</td>\n",
       "      <td>976629</td>\n",
       "      <td>C</td>\n",
       "      <td>T</td>\n",
       "      <td>non-pathogenic</td>\n",
       "      <td>not_specified</td>\n",
       "      <td>RCV000116282.1</td>\n",
       "    </tr>\n",
       "    <tr>\n",
       "      <th>10</th>\n",
       "      <td>1</td>\n",
       "      <td>976963</td>\n",
       "      <td>976963</td>\n",
       "      <td>A</td>\n",
       "      <td>G</td>\n",
       "      <td>probable-non-pathogenic</td>\n",
       "      <td>not_specified</td>\n",
       "      <td>RCV000116253.2</td>\n",
       "    </tr>\n",
       "    <tr>\n",
       "      <th>11</th>\n",
       "      <td>1</td>\n",
       "      <td>977330</td>\n",
       "      <td>977330</td>\n",
       "      <td>T</td>\n",
       "      <td>C</td>\n",
       "      <td>non-pathogenic</td>\n",
       "      <td>not_specified</td>\n",
       "      <td>RCV000116254.1</td>\n",
       "    </tr>\n",
       "    <tr>\n",
       "      <th>12</th>\n",
       "      <td>1</td>\n",
       "      <td>979514</td>\n",
       "      <td>979514</td>\n",
       "      <td>C</td>\n",
       "      <td>G</td>\n",
       "      <td>probable-non-pathogenic</td>\n",
       "      <td>not_specified</td>\n",
       "      <td>RCV000116255.2</td>\n",
       "    </tr>\n",
       "    <tr>\n",
       "      <th>13</th>\n",
       "      <td>1</td>\n",
       "      <td>979748</td>\n",
       "      <td>979748</td>\n",
       "      <td>A</td>\n",
       "      <td>T</td>\n",
       "      <td>non-pathogenic</td>\n",
       "      <td>not_specified</td>\n",
       "      <td>RCV000116256.1</td>\n",
       "    </tr>\n",
       "    <tr>\n",
       "      <th>14</th>\n",
       "      <td>1</td>\n",
       "      <td>980773</td>\n",
       "      <td>980773</td>\n",
       "      <td>C</td>\n",
       "      <td>T</td>\n",
       "      <td>probable-non-pathogenic</td>\n",
       "      <td>not_specified</td>\n",
       "      <td>RCV000116257.2</td>\n",
       "    </tr>\n",
       "    <tr>\n",
       "      <th>15</th>\n",
       "      <td>1</td>\n",
       "      <td>980824</td>\n",
       "      <td>980824</td>\n",
       "      <td>G</td>\n",
       "      <td>A</td>\n",
       "      <td>probable-pathogenic</td>\n",
       "      <td>not_provided</td>\n",
       "      <td>RCV000171144.1</td>\n",
       "    </tr>\n",
       "    <tr>\n",
       "      <th>16</th>\n",
       "      <td>1</td>\n",
       "      <td>980824</td>\n",
       "      <td>980824</td>\n",
       "      <td>G</td>\n",
       "      <td>C</td>\n",
       "      <td>probable-pathogenic</td>\n",
       "      <td>not_provided</td>\n",
       "      <td>RCV000171144.1</td>\n",
       "    </tr>\n",
       "    <tr>\n",
       "      <th>17</th>\n",
       "      <td>1</td>\n",
       "      <td>981931</td>\n",
       "      <td>981931</td>\n",
       "      <td>A</td>\n",
       "      <td>G</td>\n",
       "      <td>non-pathogenic</td>\n",
       "      <td>not_specified</td>\n",
       "      <td>RCV000116259.1</td>\n",
       "    </tr>\n",
       "    <tr>\n",
       "      <th>18</th>\n",
       "      <td>1</td>\n",
       "      <td>982213</td>\n",
       "      <td>982213</td>\n",
       "      <td>G</td>\n",
       "      <td>C</td>\n",
       "      <td>probable-non-pathogenic</td>\n",
       "      <td>not_specified</td>\n",
       "      <td>RCV000116260.2</td>\n",
       "    </tr>\n",
       "    <tr>\n",
       "      <th>19</th>\n",
       "      <td>1</td>\n",
       "      <td>982213</td>\n",
       "      <td>982213</td>\n",
       "      <td>G</td>\n",
       "      <td>T</td>\n",
       "      <td>probable-non-pathogenic</td>\n",
       "      <td>not_specified</td>\n",
       "      <td>RCV000116260.2</td>\n",
       "    </tr>\n",
       "    <tr>\n",
       "      <th>20</th>\n",
       "      <td>1</td>\n",
       "      <td>982722</td>\n",
       "      <td>982722</td>\n",
       "      <td>A</td>\n",
       "      <td>G</td>\n",
       "      <td>probable-non-pathogenic</td>\n",
       "      <td>not_specified</td>\n",
       "      <td>RCV000116261.2</td>\n",
       "    </tr>\n",
       "    <tr>\n",
       "      <th>21</th>\n",
       "      <td>1</td>\n",
       "      <td>982783</td>\n",
       "      <td>982783</td>\n",
       "      <td>T</td>\n",
       "      <td>C</td>\n",
       "      <td>probable-non-pathogenic</td>\n",
       "      <td>not_specified</td>\n",
       "      <td>RCV000116262.2</td>\n",
       "    </tr>\n",
       "    <tr>\n",
       "      <th>22</th>\n",
       "      <td>1</td>\n",
       "      <td>982844</td>\n",
       "      <td>982844</td>\n",
       "      <td>G</td>\n",
       "      <td>C</td>\n",
       "      <td>probable-non-pathogenic|probable-pathogenic</td>\n",
       "      <td>not_specified|not_provided</td>\n",
       "      <td>RCV000116263.2|RCV000171145.1</td>\n",
       "    </tr>\n",
       "    <tr>\n",
       "      <th>23</th>\n",
       "      <td>1</td>\n",
       "      <td>982994</td>\n",
       "      <td>982994</td>\n",
       "      <td>T</td>\n",
       "      <td>C</td>\n",
       "      <td>non-pathogenic</td>\n",
       "      <td>not_specified</td>\n",
       "      <td>RCV000116264.1</td>\n",
       "    </tr>\n",
       "    <tr>\n",
       "      <th>24</th>\n",
       "      <td>1</td>\n",
       "      <td>983006</td>\n",
       "      <td>983006</td>\n",
       "      <td>C</td>\n",
       "      <td>T</td>\n",
       "      <td>probable-non-pathogenic</td>\n",
       "      <td>not_specified</td>\n",
       "      <td>RCV000116265.2</td>\n",
       "    </tr>\n",
       "  </tbody>\n",
       "</table>\n",
       "</div>"
      ],
      "text/plain": [
       "   Chromosome   Start    Stop Ref Alt  \\\n",
       "0           1  883516  883516   G   A   \n",
       "1           1  891344  891344   G   A   \n",
       "2           1  891344  891344   G   C   \n",
       "3           1  906168  906168   G   A   \n",
       "4           1  949523  949523   C   T   \n",
       "5           1  949696  949696   -   G   \n",
       "6           1  949739  949739   G   T   \n",
       "7           1  955597  955597   G   T   \n",
       "8           1  957640  957640   C   T   \n",
       "9           1  976629  976629   C   T   \n",
       "10          1  976963  976963   A   G   \n",
       "11          1  977330  977330   T   C   \n",
       "12          1  979514  979514   C   G   \n",
       "13          1  979748  979748   A   T   \n",
       "14          1  980773  980773   C   T   \n",
       "15          1  980824  980824   G   A   \n",
       "16          1  980824  980824   G   C   \n",
       "17          1  981931  981931   A   G   \n",
       "18          1  982213  982213   G   C   \n",
       "19          1  982213  982213   G   T   \n",
       "20          1  982722  982722   A   G   \n",
       "21          1  982783  982783   T   C   \n",
       "22          1  982844  982844   G   C   \n",
       "23          1  982994  982994   T   C   \n",
       "24          1  983006  983006   C   T   \n",
       "\n",
       "                                      assertion                     disease  \\\n",
       "0                                      untested          Malignant_melanoma   \n",
       "1                                      untested          Malignant_melanoma   \n",
       "2                                      untested          Malignant_melanoma   \n",
       "3                                      untested          Malignant_melanoma   \n",
       "4                                    pathogenic         Immunodeficiency_38   \n",
       "5                                    pathogenic         Immunodeficiency_38   \n",
       "6                                    pathogenic         Immunodeficiency_38   \n",
       "7                       probable-non-pathogenic               not_specified   \n",
       "8                       probable-non-pathogenic               not_specified   \n",
       "9                                non-pathogenic               not_specified   \n",
       "10                      probable-non-pathogenic               not_specified   \n",
       "11                               non-pathogenic               not_specified   \n",
       "12                      probable-non-pathogenic               not_specified   \n",
       "13                               non-pathogenic               not_specified   \n",
       "14                      probable-non-pathogenic               not_specified   \n",
       "15                          probable-pathogenic                not_provided   \n",
       "16                          probable-pathogenic                not_provided   \n",
       "17                               non-pathogenic               not_specified   \n",
       "18                      probable-non-pathogenic               not_specified   \n",
       "19                      probable-non-pathogenic               not_specified   \n",
       "20                      probable-non-pathogenic               not_specified   \n",
       "21                      probable-non-pathogenic               not_specified   \n",
       "22  probable-non-pathogenic|probable-pathogenic  not_specified|not_provided   \n",
       "23                               non-pathogenic               not_specified   \n",
       "24                      probable-non-pathogenic               not_specified   \n",
       "\n",
       "                        accession  \n",
       "0                  RCV000064926.2  \n",
       "1                  RCV000064927.2  \n",
       "2                  RCV000064927.2  \n",
       "3                  RCV000064940.2  \n",
       "4                  RCV000162196.2  \n",
       "5                  RCV000148989.4  \n",
       "6                  RCV000148988.4  \n",
       "7                  RCV000116272.2  \n",
       "8                  RCV000116258.2  \n",
       "9                  RCV000116282.1  \n",
       "10                 RCV000116253.2  \n",
       "11                 RCV000116254.1  \n",
       "12                 RCV000116255.2  \n",
       "13                 RCV000116256.1  \n",
       "14                 RCV000116257.2  \n",
       "15                 RCV000171144.1  \n",
       "16                 RCV000171144.1  \n",
       "17                 RCV000116259.1  \n",
       "18                 RCV000116260.2  \n",
       "19                 RCV000116260.2  \n",
       "20                 RCV000116261.2  \n",
       "21                 RCV000116262.2  \n",
       "22  RCV000116263.2|RCV000171145.1  \n",
       "23                 RCV000116264.1  \n",
       "24                 RCV000116265.2  "
      ]
     },
     "execution_count": 5,
     "metadata": {},
     "output_type": "execute_result"
    }
   ],
   "source": [
    "assertion = [x.split(';')[0].split('=')[1] for x in raw_clinvar.ClinSig]\n",
    "disease = [x.split(';')[1].split('=')[1] for x in raw_clinvar.ClinSig]\n",
    "accession = [x.split(';')[3].split('=')[1] for x in raw_clinvar.ClinSig]\n",
    "clinvar = raw_clinvar.drop('ClinSig',1)\n",
    "clinvar['assertion'], clinvar['disease'], clinvar['accession'] = assertion, disease, accession\n",
    "clinvar.head(25)"
   ]
  },
  {
   "cell_type": "markdown",
   "metadata": {},
   "source": [
    "Notice that some of variants contain multiple assertions, separated by the ',' or '|' characters. We can extract just these rows as follows:"
   ]
  },
  {
   "cell_type": "code",
   "execution_count": 6,
   "metadata": {
    "collapsed": false
   },
   "outputs": [
    {
     "data": {
      "text/html": [
       "<div>\n",
       "<table border=\"1\" class=\"dataframe\">\n",
       "  <thead>\n",
       "    <tr style=\"text-align: right;\">\n",
       "      <th></th>\n",
       "      <th>Chromosome</th>\n",
       "      <th>Start</th>\n",
       "      <th>Stop</th>\n",
       "      <th>Ref</th>\n",
       "      <th>Alt</th>\n",
       "      <th>assertion</th>\n",
       "      <th>disease</th>\n",
       "      <th>accession</th>\n",
       "    </tr>\n",
       "  </thead>\n",
       "  <tbody>\n",
       "    <tr>\n",
       "      <th>22</th>\n",
       "      <td>1</td>\n",
       "      <td>982844</td>\n",
       "      <td>982844</td>\n",
       "      <td>G</td>\n",
       "      <td>C</td>\n",
       "      <td>probable-non-pathogenic|probable-pathogenic</td>\n",
       "      <td>not_specified|not_provided</td>\n",
       "      <td>RCV000116263.2|RCV000171145.1</td>\n",
       "    </tr>\n",
       "    <tr>\n",
       "      <th>81</th>\n",
       "      <td>1</td>\n",
       "      <td>1959699</td>\n",
       "      <td>1959699</td>\n",
       "      <td>G</td>\n",
       "      <td>A</td>\n",
       "      <td>other|other|other</td>\n",
       "      <td>Generalized_epilepsy_with_febrile_seizures_plu...</td>\n",
       "      <td>RCV000017599.1|RCV000017600.1|RCV000022558.1</td>\n",
       "    </tr>\n",
       "    <tr>\n",
       "      <th>85</th>\n",
       "      <td>1</td>\n",
       "      <td>2160305</td>\n",
       "      <td>2160305</td>\n",
       "      <td>G</td>\n",
       "      <td>A</td>\n",
       "      <td>pathogenic,pathogenic</td>\n",
       "      <td>Shprintzen-Goldberg_syndrome,Shprintzen-Goldbe...</td>\n",
       "      <td>RCV000030819.24,RCV000030820.24</td>\n",
       "    </tr>\n",
       "    <tr>\n",
       "      <th>86</th>\n",
       "      <td>1</td>\n",
       "      <td>2160305</td>\n",
       "      <td>2160305</td>\n",
       "      <td>G</td>\n",
       "      <td>T</td>\n",
       "      <td>pathogenic,pathogenic</td>\n",
       "      <td>Shprintzen-Goldberg_syndrome,Shprintzen-Goldbe...</td>\n",
       "      <td>RCV000030819.24,RCV000030820.24</td>\n",
       "    </tr>\n",
       "    <tr>\n",
       "      <th>87</th>\n",
       "      <td>1</td>\n",
       "      <td>2160306</td>\n",
       "      <td>2160306</td>\n",
       "      <td>G</td>\n",
       "      <td>A</td>\n",
       "      <td>pathogenic,pathogenic</td>\n",
       "      <td>Shprintzen-Goldberg_syndrome,Shprintzen-Goldbe...</td>\n",
       "      <td>RCV000030818.24,RCV000033005.24</td>\n",
       "    </tr>\n",
       "  </tbody>\n",
       "</table>\n",
       "</div>"
      ],
      "text/plain": [
       "   Chromosome    Start     Stop Ref Alt  \\\n",
       "22          1   982844   982844   G   C   \n",
       "81          1  1959699  1959699   G   A   \n",
       "85          1  2160305  2160305   G   A   \n",
       "86          1  2160305  2160305   G   T   \n",
       "87          1  2160306  2160306   G   A   \n",
       "\n",
       "                                      assertion  \\\n",
       "22  probable-non-pathogenic|probable-pathogenic   \n",
       "81                            other|other|other   \n",
       "85                        pathogenic,pathogenic   \n",
       "86                        pathogenic,pathogenic   \n",
       "87                        pathogenic,pathogenic   \n",
       "\n",
       "                                              disease  \\\n",
       "22                         not_specified|not_provided   \n",
       "81  Generalized_epilepsy_with_febrile_seizures_plu...   \n",
       "85  Shprintzen-Goldberg_syndrome,Shprintzen-Goldbe...   \n",
       "86  Shprintzen-Goldberg_syndrome,Shprintzen-Goldbe...   \n",
       "87  Shprintzen-Goldberg_syndrome,Shprintzen-Goldbe...   \n",
       "\n",
       "                                       accession  \n",
       "22                 RCV000116263.2|RCV000171145.1  \n",
       "81  RCV000017599.1|RCV000017600.1|RCV000022558.1  \n",
       "85               RCV000030819.24,RCV000030820.24  \n",
       "86               RCV000030819.24,RCV000030820.24  \n",
       "87               RCV000030818.24,RCV000033005.24  "
      ]
     },
     "execution_count": 6,
     "metadata": {},
     "output_type": "execute_result"
    }
   ],
   "source": [
    "import re\n",
    "\n",
    "accession = clinvar.accession.map(lambda x: re.split(r'[,|]+',x) if ('|' in x or ',' in x) else [x])\n",
    "multi_rows = [i for i, e in enumerate(accession) if len(e) > 1]\n",
    "multi = clinvar.ix[multi_rows,:]\n",
    "multi.head(5)"
   ]
  },
  {
   "cell_type": "markdown",
   "metadata": {},
   "source": [
    "We can flatten the clinvar data so there is one <b>assertion</b> per line:"
   ]
  },
  {
   "cell_type": "code",
   "execution_count": 7,
   "metadata": {
    "collapsed": false,
    "scrolled": false
   },
   "outputs": [
    {
     "data": {
      "text/html": [
       "<div>\n",
       "<table border=\"1\" class=\"dataframe\">\n",
       "  <thead>\n",
       "    <tr style=\"text-align: right;\">\n",
       "      <th></th>\n",
       "      <th>Chromosome</th>\n",
       "      <th>Start</th>\n",
       "      <th>Stop</th>\n",
       "      <th>Ref</th>\n",
       "      <th>Alt</th>\n",
       "      <th>Assertion</th>\n",
       "      <th>Disease</th>\n",
       "      <th>Accession</th>\n",
       "    </tr>\n",
       "  </thead>\n",
       "  <tbody>\n",
       "    <tr>\n",
       "      <th>0</th>\n",
       "      <td>1</td>\n",
       "      <td>883516</td>\n",
       "      <td>883516</td>\n",
       "      <td>G</td>\n",
       "      <td>A</td>\n",
       "      <td>untested</td>\n",
       "      <td>Malignant_melanoma</td>\n",
       "      <td>RCV000064926.2</td>\n",
       "    </tr>\n",
       "    <tr>\n",
       "      <th>1</th>\n",
       "      <td>1</td>\n",
       "      <td>891344</td>\n",
       "      <td>891344</td>\n",
       "      <td>G</td>\n",
       "      <td>A</td>\n",
       "      <td>untested</td>\n",
       "      <td>Malignant_melanoma</td>\n",
       "      <td>RCV000064927.2</td>\n",
       "    </tr>\n",
       "    <tr>\n",
       "      <th>2</th>\n",
       "      <td>1</td>\n",
       "      <td>891344</td>\n",
       "      <td>891344</td>\n",
       "      <td>G</td>\n",
       "      <td>C</td>\n",
       "      <td>untested</td>\n",
       "      <td>Malignant_melanoma</td>\n",
       "      <td>RCV000064927.2</td>\n",
       "    </tr>\n",
       "    <tr>\n",
       "      <th>3</th>\n",
       "      <td>1</td>\n",
       "      <td>906168</td>\n",
       "      <td>906168</td>\n",
       "      <td>G</td>\n",
       "      <td>A</td>\n",
       "      <td>untested</td>\n",
       "      <td>Malignant_melanoma</td>\n",
       "      <td>RCV000064940.2</td>\n",
       "    </tr>\n",
       "    <tr>\n",
       "      <th>4</th>\n",
       "      <td>1</td>\n",
       "      <td>949523</td>\n",
       "      <td>949523</td>\n",
       "      <td>C</td>\n",
       "      <td>T</td>\n",
       "      <td>pathogenic</td>\n",
       "      <td>Immunodeficiency_38</td>\n",
       "      <td>RCV000162196.2</td>\n",
       "    </tr>\n",
       "  </tbody>\n",
       "</table>\n",
       "</div>"
      ],
      "text/plain": [
       "  Chromosome   Start    Stop Ref Alt   Assertion              Disease  \\\n",
       "0          1  883516  883516   G   A    untested   Malignant_melanoma   \n",
       "1          1  891344  891344   G   A    untested   Malignant_melanoma   \n",
       "2          1  891344  891344   G   C    untested   Malignant_melanoma   \n",
       "3          1  906168  906168   G   A    untested   Malignant_melanoma   \n",
       "4          1  949523  949523   C   T  pathogenic  Immunodeficiency_38   \n",
       "\n",
       "        Accession  \n",
       "0  RCV000064926.2  \n",
       "1  RCV000064927.2  \n",
       "2  RCV000064927.2  \n",
       "3  RCV000064940.2  \n",
       "4  RCV000162196.2  "
      ]
     },
     "execution_count": 7,
     "metadata": {},
     "output_type": "execute_result"
    }
   ],
   "source": [
    "assertion = clinvar.assertion.map(lambda x: re.split(r'[,|]+',x) if ('|' in x or ',' in x) else [x])\n",
    "disease = clinvar.disease.map(lambda x: re.split(r'[,|]+',x) if ('|' in x or ',' in x) else [x])\n",
    "accession = clinvar.accession.map(lambda x: re.split(r'[,|]+',x) if ('|' in x or ',' in x) else [x])\n",
    "v0 = clinvar.Chromosome.tolist()\n",
    "v1 = clinvar.Start.tolist()\n",
    "v2 = clinvar.Stop.tolist()\n",
    "v3 = clinvar.Ref.tolist()\n",
    "v4 = clinvar.Alt.tolist()\n",
    "variants = zip(v0,v1,v2,v3,v4)\n",
    "flat = []\n",
    "for i, v in enumerate(variants):\n",
    "    num_assertions = len(accession[i])\n",
    "    v = list(v)\n",
    "    if num_assertions > 1:  \n",
    "        flat += [v+[assertion[i][j],disease[i][j],accession[i][j]] for j in range(num_assertions)]\n",
    "    else:\n",
    "        flat += [v+assertion[i]+disease[i]+accession[i]]\n",
    "flat_clinvar = pd.DataFrame(flat)\n",
    "flat_clinvar.columns = ['Chromosome','Start','Stop','Ref','Alt','Assertion','Disease','Accession']\n",
    "flat_clinvar.head(5)"
   ]
  },
  {
   "cell_type": "markdown",
   "metadata": {},
   "source": [
    "Let's deduplicate:"
   ]
  },
  {
   "cell_type": "code",
   "execution_count": 8,
   "metadata": {
    "collapsed": false
   },
   "outputs": [
    {
     "name": "stdout",
     "output_type": "stream",
     "text": [
      "There are 160487 distinct assertions in this version of Clinvar.\n"
     ]
    }
   ],
   "source": [
    "flat_clinvar = flat_clinvar.drop_duplicates()\n",
    "print \"There are %s distinct assertions in this version of Clinvar.\" %flat_clinvar.shape[0]"
   ]
  },
  {
   "cell_type": "markdown",
   "metadata": {},
   "source": [
    "and output to file:"
   ]
  },
  {
   "cell_type": "code",
   "execution_count": 9,
   "metadata": {
    "collapsed": true
   },
   "outputs": [],
   "source": [
    "flat_clinvar.to_csv(path_or_buf='flat_clinvar.tsv',sep='\\t',index=False,\n",
    "                   columns=['Chromosome','Start','Stop','Ref','Alt','Assertion',\n",
    "                               'Disease','Accession'])"
   ]
  },
  {
   "cell_type": "markdown",
   "metadata": {},
   "source": [
    "To reduce to Pathogenic SNPs, we can simply run:"
   ]
  },
  {
   "cell_type": "code",
   "execution_count": 10,
   "metadata": {
    "collapsed": false
   },
   "outputs": [
    {
     "name": "stdout",
     "output_type": "stream",
     "text": [
      "There are 34173 pathogenic SNP assertions in this version of ClinVar.\n"
     ]
    }
   ],
   "source": [
    "pathogenic_SNPs = flat_clinvar[(flat_clinvar.Start == flat_clinvar.Stop) & (flat_clinvar.Assertion == 'pathogenic') &\n",
    "                              (flat_clinvar.Alt.str.len() == 1) & (flat_clinvar.Ref.str.len() == 1)]\n",
    "print 'There are %s pathogenic SNP assertions in this version of ClinVar.' % pathogenic_SNPs.shape[0]"
   ]
  },
  {
   "cell_type": "markdown",
   "metadata": {},
   "source": [
    "Let's output these to file:"
   ]
  },
  {
   "cell_type": "code",
   "execution_count": 11,
   "metadata": {
    "collapsed": false
   },
   "outputs": [],
   "source": [
    "pathogenic_SNPs.to_csv(path_or_buf='flat_clinvar_pathogenic_SNPs.tsv',sep='\\t',index=False,\n",
    "                       columns=['Chromosome','Start','Stop','Ref','Alt','Assertion',\n",
    "                               'Disease','Accession'])"
   ]
  },
  {
   "cell_type": "markdown",
   "metadata": {},
   "source": [
    "### 2a. Pulling Allele Frequency Data"
   ]
  },
  {
   "cell_type": "markdown",
   "metadata": {},
   "source": [
    "#### 2a.1. NHLBI ESP"
   ]
  },
  {
   "cell_type": "markdown",
   "metadata": {},
   "source": [
    "We first retrieve frequency data from the NHLBI ESP [http://evs.gs.washington.edu/EVS/]:"
   ]
  },
  {
   "cell_type": "code",
   "execution_count": 12,
   "metadata": {
    "collapsed": false
   },
   "outputs": [
    {
     "data": {
      "text/plain": [
       "0"
      ]
     },
     "execution_count": 12,
     "metadata": {},
     "output_type": "execute_result"
    }
   ],
   "source": [
    "os.system('annotate_variation.pl -downdb -webfrom annovar -build hg19 esp6500si_ea humandb/')\n",
    "os.system('annotate_variation.pl -downdb -webfrom annovar -build hg19 esp6500si_aa humandb/')\n",
    "os.system('annotate_variation.pl -downdb -webfrom annovar -build hg19 esp6500si_all humandb/')"
   ]
  },
  {
   "cell_type": "markdown",
   "metadata": {},
   "source": [
    "We can use these data to filter clinical variants:"
   ]
  },
  {
   "cell_type": "code",
   "execution_count": 13,
   "metadata": {
    "collapsed": false
   },
   "outputs": [
    {
     "data": {
      "text/plain": [
       "0"
      ]
     },
     "execution_count": 13,
     "metadata": {},
     "output_type": "execute_result"
    }
   ],
   "source": [
    "infile_name = 'flat_clinvar_pathogenic_SNPs.tsv'\n",
    "outfile_name = 'ESP'\n",
    "os.system('annotate_variation.pl -filter -dbtype esp6500si_all -build hg19 -out %s %s humandb/' % (outfile_name,infile_name))"
   ]
  },
  {
   "cell_type": "code",
   "execution_count": 14,
   "metadata": {
    "collapsed": false
   },
   "outputs": [
    {
     "name": "stdout",
     "output_type": "stream",
     "text": [
      "There are 3403 variant-disease assertions with ESP frequency data available.\n"
     ]
    },
    {
     "data": {
      "text/html": [
       "<div>\n",
       "<table border=\"1\" class=\"dataframe\">\n",
       "  <thead>\n",
       "    <tr style=\"text-align: right;\">\n",
       "      <th></th>\n",
       "      <th>ESP_Overall_Frequency</th>\n",
       "      <th>Chromosome</th>\n",
       "      <th>Start</th>\n",
       "      <th>Stop</th>\n",
       "      <th>Ref</th>\n",
       "      <th>Alt</th>\n",
       "      <th>Assertion</th>\n",
       "      <th>Disease</th>\n",
       "      <th>Accession</th>\n",
       "    </tr>\n",
       "  </thead>\n",
       "  <tbody>\n",
       "    <tr>\n",
       "      <th>0</th>\n",
       "      <td>0.000154</td>\n",
       "      <td>1</td>\n",
       "      <td>100381954</td>\n",
       "      <td>100381954</td>\n",
       "      <td>A</td>\n",
       "      <td>G</td>\n",
       "      <td>pathogenic</td>\n",
       "      <td>Glycogen_storage_disease_IIIb</td>\n",
       "      <td>RCV000001157.2</td>\n",
       "    </tr>\n",
       "    <tr>\n",
       "      <th>1</th>\n",
       "      <td>0.000154</td>\n",
       "      <td>1</td>\n",
       "      <td>100381954</td>\n",
       "      <td>100381954</td>\n",
       "      <td>A</td>\n",
       "      <td>G</td>\n",
       "      <td>pathogenic</td>\n",
       "      <td>Glycogen_storage_disease_IIIa</td>\n",
       "      <td>RCV000001158.2</td>\n",
       "    </tr>\n",
       "    <tr>\n",
       "      <th>2</th>\n",
       "      <td>0.000154</td>\n",
       "      <td>1</td>\n",
       "      <td>10042538</td>\n",
       "      <td>10042538</td>\n",
       "      <td>C</td>\n",
       "      <td>T</td>\n",
       "      <td>pathogenic</td>\n",
       "      <td>Leber_congenital_amaurosis_9</td>\n",
       "      <td>RCV000030764.1</td>\n",
       "    </tr>\n",
       "    <tr>\n",
       "      <th>3</th>\n",
       "      <td>0.000077</td>\n",
       "      <td>1</td>\n",
       "      <td>10042629</td>\n",
       "      <td>10042629</td>\n",
       "      <td>G</td>\n",
       "      <td>T</td>\n",
       "      <td>pathogenic</td>\n",
       "      <td>Leber_congenital_amaurosis_9</td>\n",
       "      <td>RCV000030769.2</td>\n",
       "    </tr>\n",
       "    <tr>\n",
       "      <th>4</th>\n",
       "      <td>0.001076</td>\n",
       "      <td>1</td>\n",
       "      <td>10042688</td>\n",
       "      <td>10042688</td>\n",
       "      <td>G</td>\n",
       "      <td>A</td>\n",
       "      <td>pathogenic</td>\n",
       "      <td>Leber_congenital_amaurosis_9</td>\n",
       "      <td>RCV000030765.2</td>\n",
       "    </tr>\n",
       "  </tbody>\n",
       "</table>\n",
       "</div>"
      ],
      "text/plain": [
       "   ESP_Overall_Frequency Chromosome      Start       Stop Ref Alt   Assertion  \\\n",
       "0               0.000154          1  100381954  100381954   A   G  pathogenic   \n",
       "1               0.000154          1  100381954  100381954   A   G  pathogenic   \n",
       "2               0.000154          1   10042538   10042538   C   T  pathogenic   \n",
       "3               0.000077          1   10042629   10042629   G   T  pathogenic   \n",
       "4               0.001076          1   10042688   10042688   G   A  pathogenic   \n",
       "\n",
       "                         Disease       Accession  \n",
       "0  Glycogen_storage_disease_IIIb  RCV000001157.2  \n",
       "1  Glycogen_storage_disease_IIIa  RCV000001158.2  \n",
       "2   Leber_congenital_amaurosis_9  RCV000030764.1  \n",
       "3   Leber_congenital_amaurosis_9  RCV000030769.2  \n",
       "4   Leber_congenital_amaurosis_9  RCV000030765.2  "
      ]
     },
     "execution_count": 14,
     "metadata": {},
     "output_type": "execute_result"
    }
   ],
   "source": [
    "ESP_data = pd.read_table('ESP.hg19_esp6500si_all_dropped',\n",
    "                     header=None)\n",
    "ESP_data = ESP_data.drop(0,1)\n",
    "ESP_data.columns = ['ESP_Overall_Frequency','Chromosome','Start','Stop','Ref','Alt',\n",
    "                'Assertion','Disease','Accession']\n",
    "print \"There are %s variant-disease assertions with ESP frequency data available.\" %ESP_data.shape[0]\n",
    "ESP_data.head(5)"
   ]
  },
  {
   "cell_type": "markdown",
   "metadata": {},
   "source": [
    "#### 2a.2. Broad ExAc\n",
    "Now we retrieve frequency data from the Broad ExAc [http://exac.broadinstitute.org]:"
   ]
  },
  {
   "cell_type": "code",
   "execution_count": 15,
   "metadata": {
    "collapsed": false
   },
   "outputs": [
    {
     "data": {
      "text/plain": [
       "0"
      ]
     },
     "execution_count": 15,
     "metadata": {},
     "output_type": "execute_result"
    }
   ],
   "source": [
    "os.system('annotate_variation.pl -downdb -webfrom annovar -build hg19 exac03 humandb/')"
   ]
  },
  {
   "cell_type": "code",
   "execution_count": 16,
   "metadata": {
    "collapsed": false
   },
   "outputs": [
    {
     "data": {
      "text/plain": [
       "0"
      ]
     },
     "execution_count": 16,
     "metadata": {},
     "output_type": "execute_result"
    }
   ],
   "source": [
    "infile_name = 'flat_clinvar_pathogenic_SNPs.tsv'\n",
    "outfile_name = 'ExAc'\n",
    "os.system('annotate_variation.pl -filter -build hg19 -dbtype exac03 -out %s %s humandb/' % (outfile_name,infile_name))"
   ]
  },
  {
   "cell_type": "code",
   "execution_count": 17,
   "metadata": {
    "collapsed": false,
    "scrolled": true
   },
   "outputs": [
    {
     "name": "stdout",
     "output_type": "stream",
     "text": [
      "There are 10096 variant-disease assertions with ExAc frequency data available.\n"
     ]
    },
    {
     "data": {
      "text/html": [
       "<div>\n",
       "<table border=\"1\" class=\"dataframe\">\n",
       "  <thead>\n",
       "    <tr style=\"text-align: right;\">\n",
       "      <th></th>\n",
       "      <th>ExAc_Overall_Frequency</th>\n",
       "      <th>Chromosome</th>\n",
       "      <th>Start</th>\n",
       "      <th>Stop</th>\n",
       "      <th>Ref</th>\n",
       "      <th>Alt</th>\n",
       "      <th>Assertion</th>\n",
       "      <th>Disease</th>\n",
       "      <th>Accession</th>\n",
       "    </tr>\n",
       "  </thead>\n",
       "  <tbody>\n",
       "    <tr>\n",
       "      <th>0</th>\n",
       "      <td>0.000008</td>\n",
       "      <td>1</td>\n",
       "      <td>100316614</td>\n",
       "      <td>100316614</td>\n",
       "      <td>C</td>\n",
       "      <td>T</td>\n",
       "      <td>pathogenic</td>\n",
       "      <td>Glycogen_storage_disease_IIIb</td>\n",
       "      <td>RCV000001153.2</td>\n",
       "    </tr>\n",
       "    <tr>\n",
       "      <th>1</th>\n",
       "      <td>0.000008</td>\n",
       "      <td>1</td>\n",
       "      <td>100316614</td>\n",
       "      <td>100316614</td>\n",
       "      <td>C</td>\n",
       "      <td>T</td>\n",
       "      <td>pathogenic</td>\n",
       "      <td>Glycogen_storage_disease_type_III</td>\n",
       "      <td>RCV000020373.1</td>\n",
       "    </tr>\n",
       "    <tr>\n",
       "      <th>2</th>\n",
       "      <td>0.000017</td>\n",
       "      <td>1</td>\n",
       "      <td>100340950</td>\n",
       "      <td>100340950</td>\n",
       "      <td>C</td>\n",
       "      <td>T</td>\n",
       "      <td>pathogenic</td>\n",
       "      <td>Glycogen_storage_disease_IIIa</td>\n",
       "      <td>RCV000001165.2</td>\n",
       "    </tr>\n",
       "    <tr>\n",
       "      <th>3</th>\n",
       "      <td>0.000017</td>\n",
       "      <td>1</td>\n",
       "      <td>100340950</td>\n",
       "      <td>100340950</td>\n",
       "      <td>C</td>\n",
       "      <td>T</td>\n",
       "      <td>pathogenic</td>\n",
       "      <td>Glycogen_storage_disease_type_III</td>\n",
       "      <td>RCV000020372.1</td>\n",
       "    </tr>\n",
       "    <tr>\n",
       "      <th>4</th>\n",
       "      <td>0.000016</td>\n",
       "      <td>1</td>\n",
       "      <td>100345603</td>\n",
       "      <td>100345603</td>\n",
       "      <td>G</td>\n",
       "      <td>T</td>\n",
       "      <td>pathogenic</td>\n",
       "      <td>Glycogen_storage_disease_IIIa</td>\n",
       "      <td>RCV000001159.2</td>\n",
       "    </tr>\n",
       "  </tbody>\n",
       "</table>\n",
       "</div>"
      ],
      "text/plain": [
       "   ExAc_Overall_Frequency Chromosome      Start       Stop Ref Alt  \\\n",
       "0                0.000008          1  100316614  100316614   C   T   \n",
       "1                0.000008          1  100316614  100316614   C   T   \n",
       "2                0.000017          1  100340950  100340950   C   T   \n",
       "3                0.000017          1  100340950  100340950   C   T   \n",
       "4                0.000016          1  100345603  100345603   G   T   \n",
       "\n",
       "    Assertion                            Disease       Accession  \n",
       "0  pathogenic      Glycogen_storage_disease_IIIb  RCV000001153.2  \n",
       "1  pathogenic  Glycogen_storage_disease_type_III  RCV000020373.1  \n",
       "2  pathogenic      Glycogen_storage_disease_IIIa  RCV000001165.2  \n",
       "3  pathogenic  Glycogen_storage_disease_type_III  RCV000020372.1  \n",
       "4  pathogenic      Glycogen_storage_disease_IIIa  RCV000001159.2  "
      ]
     },
     "execution_count": 17,
     "metadata": {},
     "output_type": "execute_result"
    }
   ],
   "source": [
    "ExAc_data = pd.read_table('ExAc.hg19_exac03_dropped',\n",
    "                     header=None)\n",
    "ExAc_data = ExAc_data.drop(0,1)\n",
    "ExAc_data.columns = ['ExAc_Overall_Frequency','Chromosome','Start','Stop','Ref','Alt',\n",
    "                'Assertion','Disease','Accession']\n",
    "print \"There are %s variant-disease assertions with ExAc frequency data available.\" %ExAc_data.shape[0]\n",
    "ExAc_data.head(5)"
   ]
  },
  {
   "cell_type": "markdown",
   "metadata": {},
   "source": [
    "####2a.3. Merging"
   ]
  },
  {
   "cell_type": "markdown",
   "metadata": {},
   "source": [
    "Let's merge the two data structures:"
   ]
  },
  {
   "cell_type": "code",
   "execution_count": 18,
   "metadata": {
    "collapsed": false,
    "scrolled": false
   },
   "outputs": [
    {
     "name": "stdout",
     "output_type": "stream",
     "text": [
      "There are 10287 variant-disease assertions with frequency data in either ExAC or ESP.\n",
      "There are 10287 SNP variant-disease assertions with frequency data in either ExAc or ESP.\n",
      "There are 8441 distinct variants in the set of variant-disease assertions with frequency data in either ExAc or ESP.\n",
      "There are 2858 distinct diseases in the set of variant-disease assertions with frequency data in either ExAc or ESP.\n"
     ]
    }
   ],
   "source": [
    "merged = pd.merge(ESP_data,ExAc_data,how='outer',on=['Chromosome','Start','Stop','Ref','Alt','Disease',\n",
    "                                                     'Assertion','Accession'])\n",
    "print \"There are %s variant-disease assertions with frequency data in either ExAC or ESP.\" %merged.shape[0]\n",
    "\n",
    "num_SNPs = merged.shape[0]\n",
    "print \"There are %s SNP variant-disease assertions with frequency data in either ExAc or ESP.\" %num_SNPs\n",
    "\n",
    "num_variants = len(set(zip(merged.Chromosome,merged.Start,merged.Stop,merged.Ref,merged.Alt)))\n",
    "print \"There are %s distinct variants in the set of variant-disease assertions with frequency data in either ExAc or ESP.\" %num_variants\n",
    "\n",
    "num_diseases = len(set(zip(merged.Disease)))\n",
    "print \"There are %s distinct diseases in the set of variant-disease assertions with frequency data in either ExAc or ESP.\" %num_diseases"
   ]
  },
  {
   "cell_type": "code",
   "execution_count": 19,
   "metadata": {
    "collapsed": true
   },
   "outputs": [],
   "source": [
    "merged.to_csv(path_or_buf='merged_output.csv',sep=',',index=False,\n",
    "                   columns=['Chromosome','Start','Stop','Ref','Alt','Assertion',\n",
    "                            'Disease','Accession','ExAc_Overall_Frequency','ESP_Overall_Frequency'])"
   ]
  },
  {
   "cell_type": "markdown",
   "metadata": {},
   "source": [
    "### 2b. Pulling Pubmed Publications"
   ]
  },
  {
   "cell_type": "markdown",
   "metadata": {},
   "source": [
    "The following function, using the Python module BeautifulSoup, retrieves PubMed IDs directly from the ClinVar website:"
   ]
  },
  {
   "cell_type": "code",
   "execution_count": 20,
   "metadata": {
    "collapsed": true
   },
   "outputs": [],
   "source": [
    "from bs4 import BeautifulSoup\n",
    "import urllib2\n",
    "\n",
    "def getPubMedIDs(RCV):\n",
    "    try:\n",
    "        response = urllib2.urlopen(\"http://www.ncbi.nlm.nih.gov/clinvar/\" + RCV)\n",
    "    except urllib2.HTTPError:\n",
    "        print \"Page not found\"\n",
    "    else:\n",
    "        soup = BeautifulSoup(response.read())\n",
    "        tag = soup.body.find(\"div\", id=\"clinvar_rec_pubmed_ids1\")\n",
    "        if tag:\n",
    "            return tag.text.split(\", \")\n",
    "    return []"
   ]
  },
  {
   "cell_type": "markdown",
   "metadata": {},
   "source": [
    "Let's test this function on a few examples:"
   ]
  },
  {
   "cell_type": "code",
   "execution_count": 21,
   "metadata": {
    "collapsed": false
   },
   "outputs": [
    {
     "name": "stdout",
     "output_type": "stream",
     "text": [
      "Expecting 5 PubMedIDs for RCV000019428: [u'6289314', u'2992507', u'3243553', u'9649566', u'16143024']\n",
      "Expecting 2 PubMedIDs for RCV000019429: [u'2851587', u'7586659']\n",
      "Expecting 0 PubMedIDs for RCV000116253.2: []\n"
     ]
    }
   ],
   "source": [
    "print \"Expecting 5 PubMedIDs for RCV000019428:\", getPubMedIDs(\"RCV000019428\")\n",
    "print \"Expecting 2 PubMedIDs for RCV000019429:\", getPubMedIDs(\"RCV000019429\")\n",
    "print \"Expecting 0 PubMedIDs for RCV000116253.2:\", getPubMedIDs(\"RCV000116253.2\")"
   ]
  },
  {
   "cell_type": "markdown",
   "metadata": {},
   "source": [
    "### 3. Penetrance"
   ]
  },
  {
   "cell_type": "markdown",
   "metadata": {},
   "source": [
    "We are interested in the quantitative disease risk associated with pathogenic variation. We define the <i>penetrance</i> of genotype $G=j$ for disease $D$ as:\n",
    "\n",
    "\\begin{eqnarray}\n",
    "\\text{Penetrance} = P(D|G=j) = \\frac{k \\times P(G=j|D)}{P(G=j)} \\\\\n",
    "= \\frac{k \\times P(G=j|D)}{P(G=j|D)\\times k + P(G=j|\\overline{D})\\times (1-k)}\n",
    "\\end{eqnarray}\n",
    "\n",
    "where $k$ is the prevalence of the disease, $D$ signifies affected and $\\overline{D}$ signifies unaffected."
   ]
  },
  {
   "cell_type": "markdown",
   "metadata": {},
   "source": [
    "### 4. Summarizing the Data"
   ]
  },
  {
   "cell_type": "markdown",
   "metadata": {},
   "source": [
    "#### 4.1 Diseasome-wide analyses with ClinVar variants"
   ]
  },
  {
   "cell_type": "markdown",
   "metadata": {},
   "source": [
    "First, let's create a directory to store plots:"
   ]
  },
  {
   "cell_type": "code",
   "execution_count": 22,
   "metadata": {
    "collapsed": false
   },
   "outputs": [
    {
     "data": {
      "text/plain": [
       "0"
      ]
     },
     "execution_count": 22,
     "metadata": {},
     "output_type": "execute_result"
    }
   ],
   "source": [
    "import os\n",
    "os.system('mkdir plots')"
   ]
  },
  {
   "cell_type": "code",
   "execution_count": 23,
   "metadata": {
    "collapsed": false
   },
   "outputs": [],
   "source": [
    "a = flat_clinvar.groupby(['Chromosome','Start','Stop','Ref','Alt'])\n",
    "\n",
    "var_counts = list(a.size().values)\n",
    "assertions_per_variant = [var_counts.count(i) for i in range(1,20)]"
   ]
  },
  {
   "cell_type": "code",
   "execution_count": 24,
   "metadata": {
    "collapsed": false
   },
   "outputs": [
    {
     "data": {
      "text/plain": [
       "132584"
      ]
     },
     "execution_count": 24,
     "metadata": {},
     "output_type": "execute_result"
    },
    {
     "data": {
      "image/png": "[encoded data removed]",
      "text/plain": [
       "<matplotlib.figure.Figure at 0x118fbe150>"
      ]
     },
     "metadata": {},
     "output_type": "display_data"
    }
   ],
   "source": [
    "%matplotlib inline\n",
    "\n",
    "import matplotlib\n",
    "import matplotlib.pyplot as plt\n",
    "\n",
    "plt.figure(figsize = (7,7))\n",
    "plt.bar(range(1,len(assertions_per_variant)+1),assertions_per_variant,\n",
    "        align='center',color='teal')\n",
    "plt.xlabel('Assertions per Variant',fontsize=14)\n",
    "plt.ylabel('Count',fontsize=14)\n",
    "#plt.title('Pathogenicity Assertions per Variant in ClinVar')\n",
    "plt.xlim([0,15])\n",
    "plt.xticks(range(len(assertions_per_variant)),fontsize=12)\n",
    "plt.savefig('plots/assertions_per_variant.pdf')\n",
    "\n",
    "assertions_per_variant[0]/(len(a.groups))\n",
    "len(a.groups)"
   ]
  },
  {
   "cell_type": "markdown",
   "metadata": {},
   "source": [
    "#### 4.2 Uncertainty in the disease risk conveyed by pathogenic variation"
   ]
  },
  {
   "cell_type": "markdown",
   "metadata": {},
   "source": [
    "Here we perform a sensitivity analysis for penetrance using the disease hypertrophic cardiomyopathy (HCM). Making our assumptions explicit:"
   ]
  },
  {
   "cell_type": "markdown",
   "metadata": {},
   "source": [
    "<ul>\n",
    "<li>The prevalence of HCM is $1/500$ [Maron et al., <i>Circulation</i> 1995]</li>\n",
    "<li>There are more than a thousand causal variants for HCM [Maron et al., <i>J Am. Coll. Cardiol.</i>, 2012]. A conservative estimate for $h$, the heterogeneity parameter, is therefore $h=0.1$. A more realistic estimate is $h=0.001$</li>\n",
    "<li>HCM is autosomal dominant: a single copy of a highly-penetrant causal allele is sufficient to cause disease</li>\n",
    "</ul>"
   ]
  },
  {
   "cell_type": "code",
   "execution_count": 25,
   "metadata": {
    "collapsed": false
   },
   "outputs": [],
   "source": [
    "# parameters above as Python variables\n",
    "import numpy as np\n",
    "\n",
    "prev = 1.0/500\n",
    "het_range = np.linspace((0.001),(0.1),10)\n",
    "pen = {} # to be computed below\n",
    "genetic_model = 'AD'"
   ]
  },
  {
   "cell_type": "markdown",
   "metadata": {},
   "source": [
    "Recall:\n",
    "    \n",
    "\\begin{eqnarray}\n",
    "\\text{Penetrance} = P(D|G=j) = \\frac{k \\times P(G=j|D)}{P(G=j)} \\\\\n",
    "= \\frac{k \\times P(G=j|D)}{P(G=j|D)\\times k + P(G=j|\\overline{D})\\times (1-k)}\n",
    "\\end{eqnarray}"
   ]
  },
  {
   "cell_type": "markdown",
   "metadata": {},
   "source": [
    "Thus, grabbing all HCM variants and computing penetrance can be accomplished by:"
   ]
  },
  {
   "cell_type": "code",
   "execution_count": 26,
   "metadata": {
    "collapsed": false
   },
   "outputs": [
    {
     "data": {
      "text/html": [
       "<div>\n",
       "<table border=\"1\" class=\"dataframe\">\n",
       "  <thead>\n",
       "    <tr style=\"text-align: right;\">\n",
       "      <th></th>\n",
       "      <th>Chromosome</th>\n",
       "      <th>Start</th>\n",
       "      <th>Ref</th>\n",
       "      <th>Alt</th>\n",
       "      <th>ExAc_Overall_Frequency</th>\n",
       "      <th>ESP_Overall_Frequency</th>\n",
       "      <th>Accession</th>\n",
       "      <th>Disease</th>\n",
       "    </tr>\n",
       "  </thead>\n",
       "  <tbody>\n",
       "    <tr>\n",
       "      <th>199</th>\n",
       "      <td>1</td>\n",
       "      <td>201328373</td>\n",
       "      <td>G</td>\n",
       "      <td>A</td>\n",
       "      <td>0.0004</td>\n",
       "      <td>0.000461</td>\n",
       "      <td>RCV000013222.22</td>\n",
       "      <td>Familial_hypertrophic_cardiomyopathy_2</td>\n",
       "    </tr>\n",
       "    <tr>\n",
       "      <th>203</th>\n",
       "      <td>1</td>\n",
       "      <td>201337340</td>\n",
       "      <td>G</td>\n",
       "      <td>A</td>\n",
       "      <td>0.0005</td>\n",
       "      <td>0.000308</td>\n",
       "      <td>RCV000149450.1</td>\n",
       "      <td>Primary_familial_hypertrophic_cardiomyopathy</td>\n",
       "    </tr>\n",
       "    <tr>\n",
       "      <th>250</th>\n",
       "      <td>1</td>\n",
       "      <td>236911044</td>\n",
       "      <td>C</td>\n",
       "      <td>T</td>\n",
       "      <td>0.0002</td>\n",
       "      <td>0.000077</td>\n",
       "      <td>RCV000169901.2</td>\n",
       "      <td>Familial_hypertrophic_cardiomyopathy_23</td>\n",
       "    </tr>\n",
       "    <tr>\n",
       "      <th>448</th>\n",
       "      <td>10</td>\n",
       "      <td>69881254</td>\n",
       "      <td>A</td>\n",
       "      <td>G</td>\n",
       "      <td>0.0009</td>\n",
       "      <td>0.000923</td>\n",
       "      <td>RCV000043545.1</td>\n",
       "      <td>Familial_hypertrophic_cardiomyopathy_22</td>\n",
       "    </tr>\n",
       "    <tr>\n",
       "      <th>451</th>\n",
       "      <td>10</td>\n",
       "      <td>69959174</td>\n",
       "      <td>C</td>\n",
       "      <td>T</td>\n",
       "      <td>0.0030</td>\n",
       "      <td>0.002076</td>\n",
       "      <td>RCV000043542.1</td>\n",
       "      <td>Familial_hypertrophic_cardiomyopathy_22</td>\n",
       "    </tr>\n",
       "  </tbody>\n",
       "</table>\n",
       "</div>"
      ],
      "text/plain": [
       "    Chromosome      Start Ref Alt  ExAc_Overall_Frequency  \\\n",
       "199          1  201328373   G   A                  0.0004   \n",
       "203          1  201337340   G   A                  0.0005   \n",
       "250          1  236911044   C   T                  0.0002   \n",
       "448         10   69881254   A   G                  0.0009   \n",
       "451         10   69959174   C   T                  0.0030   \n",
       "\n",
       "     ESP_Overall_Frequency        Accession  \\\n",
       "199               0.000461  RCV000013222.22   \n",
       "203               0.000308   RCV000149450.1   \n",
       "250               0.000077   RCV000169901.2   \n",
       "448               0.000923   RCV000043545.1   \n",
       "451               0.002076   RCV000043542.1   \n",
       "\n",
       "                                          Disease  \n",
       "199        Familial_hypertrophic_cardiomyopathy_2  \n",
       "203  Primary_familial_hypertrophic_cardiomyopathy  \n",
       "250       Familial_hypertrophic_cardiomyopathy_23  \n",
       "448       Familial_hypertrophic_cardiomyopathy_22  \n",
       "451       Familial_hypertrophic_cardiomyopathy_22  "
      ]
     },
     "execution_count": 26,
     "metadata": {},
     "output_type": "execute_result"
    }
   ],
   "source": [
    "HCM = merged[merged.Disease.str.contains('hypertrophic_cardiomyopathy')]\n",
    "HCM = HCM.drop_duplicates(subset = ['Chromosome','Start','Stop','Ref','Alt']) # 81 distinct variants\n",
    "raw_names = zip(HCM.Chromosome,HCM.Start,HCM.Ref,HCM.Alt)\n",
    "clean_names = [str(chrom)+':'+str(int(pos))+str(ref)+'>'+alt for (chrom,pos,ref,alt) in raw_names]\n",
    "HCM[['Chromosome','Start','Ref','Alt','ExAc_Overall_Frequency','ESP_Overall_Frequency','Accession','Disease']].head(5)"
   ]
  },
  {
   "cell_type": "code",
   "execution_count": 27,
   "metadata": {
    "collapsed": false
   },
   "outputs": [],
   "source": [
    "import numpy as np\n",
    "\n",
    "max_freqs = [np.nanmax(np.array([x,y])) for (x,y) in zip(HCM.ESP_Overall_Frequency,HCM.ExAc_Overall_Frequency)]\n",
    "max_freqs = [x**2 + 2*x*(1-x) for x in max_freqs]\n",
    "\n",
    "for i,var in enumerate(clean_names):\n",
    "    these_pens = []\n",
    "    for h in het_range:\n",
    "        f = max_freqs[i]\n",
    "        these_pens += [min(prev*h/f,1)]\n",
    "    pen[var] = these_pens"
   ]
  },
  {
   "cell_type": "code",
   "execution_count": 28,
   "metadata": {
    "collapsed": false
   },
   "outputs": [],
   "source": [
    "# now export to R\n",
    "import csv\n",
    "outfile = open('sens_analysis','w')\n",
    "for k,v in pen.items():\n",
    "    outfile.write(k)\n",
    "    for i in v:\n",
    "        outfile.write(','+str(i))\n",
    "    outfile.write('\\n')\n",
    "outfile.close()"
   ]
  },
  {
   "cell_type": "markdown",
   "metadata": {},
   "source": [
    "Let's retrieve all PubMed IDs for these accessions:"
   ]
  },
  {
   "cell_type": "code",
   "execution_count": 29,
   "metadata": {
    "collapsed": false
   },
   "outputs": [
    {
     "data": {
      "text/plain": [
       "{'RCV000007249.5': [u'10820940', u'11586962', u'10355918', u'11827995'],\n",
       " 'RCV000009135.2': [],\n",
       " 'RCV000009147.3': [u'7786104', u'10424815'],\n",
       " 'RCV000009149.3': [],\n",
       " 'RCV000009150.3': [],\n",
       " 'RCV000009326.2': [],\n",
       " 'RCV000012981.21': [u'11815424', u'16236538', u'16949038'],\n",
       " 'RCV000012982.15': [],\n",
       " 'RCV000013222.22': [u'7898523', u'2946667', u'10405326'],\n",
       " 'RCV000013231.23': [u'9241277', u'11801593', u'18430738'],\n",
       " 'RCV000013233.22': [u'11815426', u'18175163'],\n",
       " 'RCV000013234.21': [],\n",
       " 'RCV000013258.23': [],\n",
       " 'RCV000013484.23': [],\n",
       " 'RCV000015106.20': [],\n",
       " 'RCV000015108.24': [],\n",
       " 'RCV000015111.25': [u'9535554', u'12404107'],\n",
       " 'RCV000015167.24': [],\n",
       " 'RCV000015176.24': [u'7786104', u'10424815'],\n",
       " 'RCV000015186.24': [u'16267253', u'12749056', u'18506004'],\n",
       " 'RCV000015210.20': [],\n",
       " 'RCV000015212.24': [],\n",
       " 'RCV000019991.26': [],\n",
       " 'RCV000019996.28': [u'10966831', u'17611253', u'16267253', u'18506004'],\n",
       " 'RCV000022712.24': [u'12639993', u'17655857', u'21167350'],\n",
       " 'RCV000023054.2': [],\n",
       " 'RCV000023409.1': [],\n",
       " 'RCV000023411.1': [],\n",
       " 'RCV000023466.2': [u'17347475', u'22987565'],\n",
       " 'RCV000023894.1': [],\n",
       " 'RCV000023984.1': [],\n",
       " 'RCV000023985.1': [],\n",
       " 'RCV000030699.5': [u'19858127', u'16679492'],\n",
       " 'RCV000035406.3': [],\n",
       " 'RCV000035424.4': [],\n",
       " 'RCV000035435.2': [u'12707239', u'24033266'],\n",
       " 'RCV000035465.2': [],\n",
       " 'RCV000035479.2': [u'9562578', u'24033266'],\n",
       " 'RCV000035487.3': [u'22115648',\n",
       "  u'25335496',\n",
       "  u'22574137',\n",
       "  u'9562578',\n",
       "  u'10736283',\n",
       "  u'11499718',\n",
       "  u'11847170',\n",
       "  u'14563344',\n",
       "  u'19574547',\n",
       "  u'19273718',\n",
       "  u'20505798',\n",
       "  u'24033266'],\n",
       " 'RCV000035493.2': [],\n",
       " 'RCV000035563.4': [u'12110947', u'22462493'],\n",
       " 'RCV000035565.2': [],\n",
       " 'RCV000035581.3': [u'7493025', u'24033266'],\n",
       " 'RCV000035610.3': [u'16715312',\n",
       "  u'16199542',\n",
       "  u'15519027',\n",
       "  u'11499719',\n",
       "  u'18957093',\n",
       "  u'24033266'],\n",
       " 'RCV000035619.2': [u'23396983', u'18533079', u'19574547', u'24033266'],\n",
       " 'RCV000035668.4': [u'12707239',\n",
       "  u'12951062',\n",
       "  u'14563344',\n",
       "  u'15519027',\n",
       "  u'15563892',\n",
       "  u'15769446'],\n",
       " 'RCV000035771.2': [u'11113006',\n",
       "  u'21769673',\n",
       "  u'19651039',\n",
       "  u'20865685',\n",
       "  u'18020371',\n",
       "  u'17097032',\n",
       "  u'15550524',\n",
       "  u'24033266'],\n",
       " 'RCV000043542.1': [u'18006477', u'22286171'],\n",
       " 'RCV000043545.1': [],\n",
       " 'RCV000054797.4': [u'20215591', u'12818575'],\n",
       " 'RCV000054800.3': [u'20215591', u'15519027', u'18403758', u'21551322'],\n",
       " 'RCV000054804.2': [],\n",
       " 'RCV000143923.3': [u'15556047', u'20624503'],\n",
       " 'RCV000149450.1': [],\n",
       " 'RCV000151075.1': [],\n",
       " 'RCV000151111.1': [],\n",
       " 'RCV000151369.1': [u'23748425',\n",
       "  u'11174330',\n",
       "  u'20641121',\n",
       "  u'22131351',\n",
       "  u'24033266'],\n",
       " 'RCV000154181.1': [],\n",
       " 'RCV000154205.1': [u'12081993', u'22765922', u'24033266'],\n",
       " 'RCV000154302.1': [u'15519027', u'24033266'],\n",
       " 'RCV000154309.1': [],\n",
       " 'RCV000154451.1': [],\n",
       " 'RCV000155722.2': [u'11499718',\n",
       "  u'9562578',\n",
       "  u'15519027',\n",
       "  u'9048664',\n",
       "  u'14613868',\n",
       "  u'10610770',\n",
       "  u'12707239',\n",
       "  u'24033266'],\n",
       " 'RCV000157361.2': [u'10024460',\n",
       "  u'7731997',\n",
       "  u'7796500',\n",
       "  u'12974739',\n",
       "  u'17703256',\n",
       "  u'19150014',\n",
       "  u'24033266'],\n",
       " 'RCV000161117.1': [u'23690394', u'24033266'],\n",
       " 'RCV000161119.1': [u'22267749',\n",
       "  u'21750094',\n",
       "  u'15519027',\n",
       "  u'18957093',\n",
       "  u'24033266'],\n",
       " 'RCV000162335.1': [u'18533079', u'17125710', u'24111713', u'17019812'],\n",
       " 'RCV000169901.2': [u'20022194', u'17097056'],\n",
       " 'RCV000170300.2': [u'14662268', u'17097056'],\n",
       " 'RCV000170304.2': [],\n",
       " 'RCV000171824.1': []}"
      ]
     },
     "execution_count": 29,
     "metadata": {},
     "output_type": "execute_result"
    }
   ],
   "source": [
    "HCM_PMIDs = {}\n",
    "for acc in set(HCM.Accession):\n",
    "    HCM_PMIDs[acc] = getPubMedIDs(acc)\n",
    "HCM_PMIDs"
   ]
  }
 ],
 "metadata": {
  "kernelspec": {
   "display_name": "Python 2",
   "language": "python",
   "name": "python2"
  },
  "language_info": {
   "codemirror_mode": {
    "name": "ipython",
    "version": 2
   },
   "file_extension": ".py",
   "mimetype": "text/x-python",
   "name": "python",
   "nbconvert_exporter": "python",
   "pygments_lexer": "ipython2",
   "version": "2.7.10"
  }
 },
 "nbformat": 4,
 "nbformat_minor": 0
}
